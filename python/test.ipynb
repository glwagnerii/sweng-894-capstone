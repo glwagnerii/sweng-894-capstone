{
 "cells": [
  {
   "cell_type": "markdown",
   "id": "97f288d2",
   "metadata": {},
   "source": [
    "## yolo test\n",
    "\n",
    "```bash\n",
    "uv add \"onnx>=1.12.0,<1.18.0\" \"onnxslim>=0.1.53\" \"onnxruntime\"\n",
    "```\n",
    "\n",
    "use this to train additional images ...\n",
    "\n",
    "```python\n",
    "results = model.train(data=\"coco8.yaml\", epochs=100, imgsz=640)\n",
    "```"
   ]
  },
  {
   "cell_type": "code",
   "execution_count": 1,
   "id": "96edb560",
   "metadata": {},
   "outputs": [
    {
     "name": "stdout",
     "output_type": "stream",
     "text": [
      "onnx version:  1.17.0\n",
      "onnxruntime version:  1.22.0\n",
      "onnxsim version:  0.1.53\n"
     ]
    }
   ],
   "source": [
    "import onnx\n",
    "import onnxruntime\n",
    "import onnxslim\n",
    "\n",
    "print(\"onnx version: \", onnx.__version__)\n",
    "print(\"onnxruntime version: \", onnxruntime.__version__)\n",
    "print(\"onnxsim version: \", onnxslim.__version__)\n"
   ]
  },
  {
   "cell_type": "code",
   "execution_count": 2,
   "id": "f0d9020f",
   "metadata": {},
   "outputs": [],
   "source": [
    "from ultralytics import YOLO\n",
    "\n",
    "model = YOLO('yolo11n.pt')\n",
    "# model.export(format='onnx', simplify=True)"
   ]
  },
  {
   "cell_type": "code",
   "execution_count": 3,
   "id": "6dbb2a70",
   "metadata": {},
   "outputs": [
    {
     "name": "stdout",
     "output_type": "stream",
     "text": [
      "\n",
      "image 1/1 /Users/Gerry.Wagner/develop/psueng/sweng-894-capstone/python/bailey.jpeg: 640x480 1 dog, 1 couch, 1 remote, 30.7ms\n",
      "Speed: 1.3ms preprocess, 30.7ms inference, 0.7ms postprocess per image at shape (1, 3, 640, 480)\n"
     ]
    }
   ],
   "source": [
    "results = model(\"bailey.jpeg\")\n",
    "results[0].show()"
   ]
  },
  {
   "cell_type": "code",
   "execution_count": null,
   "id": "6fe2dd95",
   "metadata": {},
   "outputs": [],
   "source": []
  }
 ],
 "metadata": {
  "kernelspec": {
   "display_name": ".venv",
   "language": "python",
   "name": "python3"
  },
  "language_info": {
   "codemirror_mode": {
    "name": "ipython",
    "version": 3
   },
   "file_extension": ".py",
   "mimetype": "text/x-python",
   "name": "python",
   "nbconvert_exporter": "python",
   "pygments_lexer": "ipython3",
   "version": "3.11.12"
  }
 },
 "nbformat": 4,
 "nbformat_minor": 5
}
